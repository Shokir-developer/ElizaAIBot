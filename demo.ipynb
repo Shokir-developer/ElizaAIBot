{
 "cells": [
  {
   "cell_type": "code",
   "execution_count": 3,
   "metadata": {},
   "outputs": [],
   "source": [
    "pairs = (\n",
    "    (\n",
    "        r\"M[ea]nga (.*) ker[eak]\",\n",
    "        (\n",
    "            \"%1? Nimaga kerak?\",\n",
    "            \"Menimcha bu %1 unchalik zarurmas\",\n",
    "            \"Aniq %1 kerakmi?\"\n",
    "        ),\n",
    "\n",
    "    ),\n",
    "\n",
    "    (\n",
    "        r\"Isming (.*)\",\n",
    "        (\n",
    "            \"Salom, mening ismim Eliza!!!\"\n",
    "        )\n",
    "    )\n",
    ")\n",
    "\n"
   ]
  },
  {
   "cell_type": "code",
   "execution_count": 13,
   "metadata": {},
   "outputs": [],
   "source": [
    "text = \"salom shokir aka qalay\"\n",
    "text2 = \"Salom Bob nima gaplar\""
   ]
  },
  {
   "cell_type": "code",
   "execution_count": 14,
   "metadata": {},
   "outputs": [
    {
     "data": {
      "text/plain": [
       "<re.Match object; span=(5, 10), match=' Bob '>"
      ]
     },
     "execution_count": 14,
     "metadata": {},
     "output_type": "execute_result"
    }
   ],
   "source": [
    "import re\n",
    "three = re.compile(r'( ... )')\n",
    "\n",
    "three.search(text2)"
   ]
  },
  {
   "cell_type": "code",
   "execution_count": 20,
   "metadata": {},
   "outputs": [],
   "source": [
    "import re\n",
    "import random\n",
    "\n",
    "class Chat:\n",
    "    def __init__(self, pairs):\n",
    "        self._pairs = [(re.compile(x, re.IGNORECASE), y) for (x,y) in pairs]\n",
    "\n",
    "    def respond(self, user_input):\n",
    "        for (pattern, responses) in self._pairs:\n",
    "            match = pattern.match(user_input)\n",
    "\n",
    "            if match:\n",
    "                response = random.choice(responses)\n",
    "                response = self._subsitute(response, match)\n",
    "                return response\n",
    "        return \"Buni tushunmadim\"\n",
    "    \n",
    "    print(enumerate(match.groups(), 1))"
   ]
  }
 ],
 "metadata": {
  "kernelspec": {
   "display_name": "Python 3",
   "language": "python",
   "name": "python3"
  },
  "language_info": {
   "codemirror_mode": {
    "name": "ipython",
    "version": 3
   },
   "file_extension": ".py",
   "mimetype": "text/x-python",
   "name": "python",
   "nbconvert_exporter": "python",
   "pygments_lexer": "ipython3",
   "version": "3.12.3"
  }
 },
 "nbformat": 4,
 "nbformat_minor": 2
}
